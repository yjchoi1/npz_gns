{
 "cells": [
  {
   "cell_type": "code",
   "execution_count": 1,
   "id": "72296d10",
   "metadata": {
    "pycharm": {
     "name": "#%%\n"
    }
   },
   "outputs": [],
   "source": [
    "import h5py\n",
    "import numpy as np\n",
    "import matplotlib.pyplot as plt"
   ]
  },
  {
   "cell_type": "code",
   "execution_count": 2,
   "outputs": [],
   "source": [
    "positions = []\n",
    "position = np.empty((2500, 2), dtype=float)\n",
    "with h5py.File(\"particles000000.h5\", \"r\") as f:\n",
    "    position[:, 0] = f[\"table\"][\"coord_x\"][:]\n",
    "    position[:, 1] = f[\"table\"][\"coord_y\"][:]"
   ],
   "metadata": {
    "collapsed": false,
    "pycharm": {
     "name": "#%%\n"
    }
   }
  },
  {
   "cell_type": "code",
   "execution_count": 3,
   "id": "c5fe8603",
   "metadata": {
    "pycharm": {
     "name": "#%%\n"
    }
   },
   "outputs": [
    {
     "name": "stdout",
     "output_type": "stream",
     "text": [
      "(100, 2500, 2)\n"
     ]
    }
   ],
   "source": [
    "numbers = range(0, 250000, 2500)\n",
    "positions = []\n",
    "\n",
    "for number in numbers:\n",
    "    fname = f\"particles{str(number).zfill(6)}.h5\"\n",
    "    position = np.empty((2500, 2), dtype=float)\n",
    "    with h5py.File(fname, \"r\") as f:\n",
    "        position[:, 0] = f[\"table\"][\"coord_x\"][:]\n",
    "        position[:, 1] = f[\"table\"][\"coord_y\"][:]\n",
    "    positions.append(position)\n",
    "\n",
    "positions = np.array(positions)\n",
    "print(positions.shape)"
   ]
  },
  {
   "cell_type": "code",
   "execution_count": 13,
   "id": "a77c89b2",
   "metadata": {
    "pycharm": {
     "name": "#%%\n"
    }
   },
   "outputs": [
    {
     "name": "stdout",
     "output_type": "stream",
     "text": [
      "Velcocity: mean=[ 0.12139416 -0.1164396 ], std=[0.16324561 0.14414298]\n",
      "Acceleration: mean=[ 0.12139416 -0.1164396 ], std=[0.16324561 0.14414298]\n"
     ]
    }
   ],
   "source": [
    "numbers = range(0, 250000, 2500)\n",
    "velocities = []\n",
    "accelerations = []\n",
    "\n",
    "for number in numbers:\n",
    "    fname = f\"particles{str(number).zfill(6)}.h5\"\n",
    "    velocity = np.empty((2500, 2), dtype=float)\n",
    "    acceleration = np.empty((2500, 2), dtype=float)\n",
    "    with h5py.File(fname, \"r\") as f:\n",
    "        velocity[:, 0] = f[\"table\"][\"velocity_x\"][:]\n",
    "        velocity[:, 1] = f[\"table\"][\"velocity_y\"][:]\n",
    "        \n",
    "        acceleration[:, 0] = f[\"table\"][\"velocity_x\"][:]\n",
    "        acceleration[:, 1] = f[\"table\"][\"velocity_y\"][:]\n",
    "    velocities.append(velocity)\n",
    "    accelerations.append(acceleration)\n",
    "\n",
    "velocities = np.array(velocities)\n",
    "accelerations = np.array(accelerations)\n",
    "\n",
    "print(f\"Velcocity: mean={np.mean(velocities, axis=(0,1))}, std={np.std(velocities, axis=(0,1))}\")\n",
    "print(f\"Acceleration: mean={np.mean(accelerations, axis=(0,1))}, std={np.std(accelerations, axis=(0,1))}\")"
   ]
  },
  {
   "cell_type": "code",
   "execution_count": 14,
   "id": "67938096",
   "metadata": {
    "pycharm": {
     "name": "#%%\n"
    }
   },
   "outputs": [],
   "source": [
    "%matplotlib qt5\n",
    "\n",
    "fig, ax = plt.subplots(figsize=(5,5), dpi=150)\n",
    "plt.ion()\n",
    "fig.show()\n",
    "\n",
    "for position in positions:\n",
    "    ax.clear()\n",
    "    ax.scatter(position[:, 0], position[:, 1], s=0.5)\n",
    "    ax.set_xlim(0., 1.)\n",
    "    ax.set_ylim(0., 1.)\n",
    "    plt.pause(.000001)\n",
    "    fig.canvas.draw()\n"
   ]
  },
  {
   "cell_type": "code",
   "execution_count": 4,
   "outputs": [
    {
     "name": "stderr",
     "output_type": "stream",
     "text": [
      "/usr/lib/python3/dist-packages/numpy/lib/npyio.py:719: VisibleDeprecationWarning: Creating an ndarray from ragged nested sequences (which is a list-or-tuple of lists-or-tuples-or ndarrays with different lengths or shapes) is deprecated. If you meant to do this, you must specify 'dtype=object' when creating the ndarray.\n",
      "  val = np.asanyarray(val)\n"
     ]
    }
   ],
   "source": [
    "trajectories = {}\n",
    "trajectories[\"simulation_trajectory_0\"] = (positions, np.full(positions.shape[1], 6, dtype=int))\n",
    "np.savez_compressed(\"test-2dsand.npz\", **trajectories)"
   ],
   "metadata": {
    "collapsed": false,
    "pycharm": {
     "name": "#%%\n"
    }
   }
  },
  {
   "cell_type": "code",
   "execution_count": 8,
   "outputs": [
    {
     "data": {
      "text/plain": "array([array([[[0.1032    , 0.1021    ],\n               [0.1079    , 0.1027    ],\n               [0.1118    , 0.1021    ],\n               ...,\n               [0.2916    , 0.2992    ],\n               [0.296     , 0.2983    ],\n               [0.2999    , 0.2982    ]],\n\n              [[0.10320009, 0.10209983],\n               [0.10790022, 0.10269978],\n               [0.11180033, 0.10209983],\n               ...,\n               [0.29160384, 0.29917647],\n               [0.2960039 , 0.29827628],\n               [0.29990395, 0.29817615]],\n\n              [[0.10320033, 0.10209968],\n               [0.1079008 , 0.10269959],\n               [0.1118012 , 0.10209968],\n               ...,\n               [0.29162216, 0.29911075],\n               [0.29602244, 0.29821004],\n               [0.29992265, 0.29810957]],\n\n              ...,\n\n              [[0.1032417 , 0.10207291],\n               [0.10800297, 0.10266517],\n               [0.11195379, 0.10207291],\n               ...,\n               [0.30267186, 0.27104482],\n               [0.30722471, 0.26964995],\n               [0.31123252, 0.2691862 ]],\n\n              [[0.10324382, 0.10207154],\n               [0.1080082 , 0.1026634 ],\n               [0.11196159, 0.10207153],\n               ...,\n               [0.30331499, 0.26956348],\n               [0.30787898, 0.26811074],\n               [0.3118941 , 0.26763494]],\n\n              [[0.1032459 , 0.1020702 ],\n               [0.10801333, 0.10266167],\n               [0.11196926, 0.10207018],\n               ...,\n               [0.3039815 , 0.26805042],\n               [0.30855765, 0.26653825],\n               [0.31258046, 0.2660543 ]]]),\n       array([6, 6, 6, ..., 6, 6, 6])], dtype=object)"
     },
     "execution_count": 8,
     "metadata": {},
     "output_type": "execute_result"
    }
   ],
   "source": [
    "a = np.load(\"test-2dsand.npz\", allow_pickle=True)\n",
    "a[\"simulation_trajectory_0\"]"
   ],
   "metadata": {
    "collapsed": false,
    "pycharm": {
     "name": "#%%\n"
    }
   }
  }
 ],
 "metadata": {
  "kernelspec": {
   "display_name": "Python 3 (ipykernel)",
   "language": "python",
   "name": "python3"
  },
  "language_info": {
   "codemirror_mode": {
    "name": "ipython",
    "version": 3
   },
   "file_extension": ".py",
   "mimetype": "text/x-python",
   "name": "python",
   "nbconvert_exporter": "python",
   "pygments_lexer": "ipython3",
   "version": "3.10.4"
  }
 },
 "nbformat": 4,
 "nbformat_minor": 5
}